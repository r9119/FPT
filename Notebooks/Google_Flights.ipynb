{
 "cells": [
  {
   "cell_type": "markdown",
   "metadata": {},
   "source": [
    "# WDB - Web scraping\n",
    "\n",
    "- Rami Tarabishi"
   ]
  },
  {
   "cell_type": "code",
   "execution_count": 82,
   "metadata": {},
   "outputs": [],
   "source": [
    "import pandas as pd\n",
    "import time\n",
    "import re\n",
    "\n",
    "from selenium import webdriver\n",
    "from selenium.webdriver.chrome.options import Options\n",
    "from selenium.common.exceptions import TimeoutException\n",
    "from selenium.webdriver.common.by import By\n",
    "from selenium.webdriver.support.ui import WebDriverWait\n",
    "from selenium.webdriver.support import expected_conditions as EC\n",
    "from selenium.webdriver.common.keys import Keys\n",
    "from selenium.webdriver.common.action_chains import ActionChains"
   ]
  },
  {
   "cell_type": "code",
   "execution_count": 2,
   "metadata": {},
   "outputs": [],
   "source": [
    "route_df = pd.DataFrame(columns=['outgoing_code', 'incoming_code'])\n",
    "price_df = pd.DataFrame(columns=['outgoing', 'incoming', 'stops', 'duration', 'price', 'airline'])"
   ]
  },
  {
   "cell_type": "code",
   "execution_count": 3,
   "metadata": {},
   "outputs": [],
   "source": [
    "chrome_options = Options()\n",
    "\n",
    "# chrome_options.add_argument(\"--headless\")\n",
    "chrome_options.add_argument(\"--disable-notifications\")\n",
    "chrome_options.add_argument(\"--disable-images\")"
   ]
  },
  {
   "cell_type": "code",
   "execution_count": 4,
   "metadata": {},
   "outputs": [],
   "source": [
    "# Get top N airports that I wanna scrape\n",
    "# Get all outgoing flight routes from: https://www.flightsfrom.com/\n",
    "# Set dates for the flight\n",
    "# Scrape the prices for the flights\n",
    "# Save the data in a csv file\n",
    "# EDA on the data"
   ]
  },
  {
   "cell_type": "code",
   "execution_count": 36,
   "metadata": {},
   "outputs": [],
   "source": [
    "# Launch the browser\n",
    "driver = webdriver.Chrome(options=chrome_options)\n",
    "driver.implicitly_wait(5)\n",
    "wait = WebDriverWait(driver, timeout=10)\n",
    "\n",
    "actions = ActionChains(driver)"
   ]
  },
  {
   "cell_type": "markdown",
   "metadata": {},
   "source": [
    "## Getting air routes:"
   ]
  },
  {
   "cell_type": "markdown",
   "metadata": {},
   "source": [
    "For testing/WDB purposes, Im going to limit myself to routes from zurich cause I believe there will be enough data. (~200 non-stop routes from flightsfrom * multiple different flights to get there with different airlines etc * the date range for prices) "
   ]
  },
  {
   "cell_type": "code",
   "execution_count": 67,
   "metadata": {},
   "outputs": [
    {
     "ename": "TimeoutException",
     "evalue": "Message: \nStacktrace:\n\tGetHandleVerifier [0x00007FF685701502+60802]\n\t(No symbol) [0x00007FF68567AC02]\n\t(No symbol) [0x00007FF685537CE4]\n\t(No symbol) [0x00007FF685586D4D]\n\t(No symbol) [0x00007FF685586E1C]\n\t(No symbol) [0x00007FF6855CCE37]\n\t(No symbol) [0x00007FF6855AABBF]\n\t(No symbol) [0x00007FF6855CA224]\n\t(No symbol) [0x00007FF6855AA923]\n\t(No symbol) [0x00007FF685578FEC]\n\t(No symbol) [0x00007FF685579C21]\n\tGetHandleVerifier [0x00007FF685A0411D+3217821]\n\tGetHandleVerifier [0x00007FF685A460B7+3488055]\n\tGetHandleVerifier [0x00007FF685A3F03F+3459263]\n\tGetHandleVerifier [0x00007FF6857BB846+823494]\n\t(No symbol) [0x00007FF685685F9F]\n\t(No symbol) [0x00007FF685680EC4]\n\t(No symbol) [0x00007FF685681052]\n\t(No symbol) [0x00007FF6856718A4]\n\tBaseThreadInitThunk [0x00007FFC6BFF257D+29]\n\tRtlUserThreadStart [0x00007FFC6D5CAA48+40]\n",
     "output_type": "error",
     "traceback": [
      "\u001b[1;31m---------------------------------------------------------------------------\u001b[0m",
      "\u001b[1;31mTimeoutException\u001b[0m                          Traceback (most recent call last)",
      "Cell \u001b[1;32mIn[67], line 5\u001b[0m\n\u001b[0;32m      2\u001b[0m driver\u001b[38;5;241m.\u001b[39mget(\u001b[38;5;124m'\u001b[39m\u001b[38;5;124mhttps://www.flightsfrom.com/top-100-airports\u001b[39m\u001b[38;5;124m'\u001b[39m)\n\u001b[0;32m      4\u001b[0m \u001b[38;5;66;03m# Wait for table to be loaded\u001b[39;00m\n\u001b[1;32m----> 5\u001b[0m \u001b[43mwait\u001b[49m\u001b[38;5;241;43m.\u001b[39;49m\u001b[43muntil\u001b[49m\u001b[43m(\u001b[49m\u001b[43mEC\u001b[49m\u001b[38;5;241;43m.\u001b[39;49m\u001b[43mpresence_of_element_located\u001b[49m\u001b[43m(\u001b[49m\u001b[43m(\u001b[49m\u001b[43mBy\u001b[49m\u001b[38;5;241;43m.\u001b[39;49m\u001b[43mCLASS_NAME\u001b[49m\u001b[43m,\u001b[49m\u001b[43m \u001b[49m\u001b[38;5;124;43m'\u001b[39;49m\u001b[38;5;124;43mhometoplist\u001b[39;49m\u001b[38;5;124;43m'\u001b[39;49m\u001b[43m)\u001b[49m\u001b[43m)\u001b[49m\u001b[43m)\u001b[49m\n\u001b[0;32m      7\u001b[0m \u001b[38;5;66;03m# Run through the airports\u001b[39;00m\n\u001b[0;32m      8\u001b[0m \u001b[38;5;28;01mtry\u001b[39;00m:\n\u001b[0;32m      9\u001b[0m     \u001b[38;5;66;03m# Get the rows of the table\u001b[39;00m\n",
      "File \u001b[1;32mc:\\Python311\\Lib\\site-packages\\selenium\\webdriver\\support\\wait.py:105\u001b[0m, in \u001b[0;36mWebDriverWait.until\u001b[1;34m(self, method, message)\u001b[0m\n\u001b[0;32m    103\u001b[0m     \u001b[38;5;28;01mif\u001b[39;00m time\u001b[38;5;241m.\u001b[39mmonotonic() \u001b[38;5;241m>\u001b[39m end_time:\n\u001b[0;32m    104\u001b[0m         \u001b[38;5;28;01mbreak\u001b[39;00m\n\u001b[1;32m--> 105\u001b[0m \u001b[38;5;28;01mraise\u001b[39;00m TimeoutException(message, screen, stacktrace)\n",
      "\u001b[1;31mTimeoutException\u001b[0m: Message: \nStacktrace:\n\tGetHandleVerifier [0x00007FF685701502+60802]\n\t(No symbol) [0x00007FF68567AC02]\n\t(No symbol) [0x00007FF685537CE4]\n\t(No symbol) [0x00007FF685586D4D]\n\t(No symbol) [0x00007FF685586E1C]\n\t(No symbol) [0x00007FF6855CCE37]\n\t(No symbol) [0x00007FF6855AABBF]\n\t(No symbol) [0x00007FF6855CA224]\n\t(No symbol) [0x00007FF6855AA923]\n\t(No symbol) [0x00007FF685578FEC]\n\t(No symbol) [0x00007FF685579C21]\n\tGetHandleVerifier [0x00007FF685A0411D+3217821]\n\tGetHandleVerifier [0x00007FF685A460B7+3488055]\n\tGetHandleVerifier [0x00007FF685A3F03F+3459263]\n\tGetHandleVerifier [0x00007FF6857BB846+823494]\n\t(No symbol) [0x00007FF685685F9F]\n\t(No symbol) [0x00007FF685680EC4]\n\t(No symbol) [0x00007FF685681052]\n\t(No symbol) [0x00007FF6856718A4]\n\tBaseThreadInitThunk [0x00007FFC6BFF257D+29]\n\tRtlUserThreadStart [0x00007FFC6D5CAA48+40]\n"
     ]
    }
   ],
   "source": [
    "# Scrape top N airports and their connections\n",
    "driver.get('https://www.flightsfrom.com/top-100-airports')\n",
    "\n",
    "# Wait for table to be loaded\n",
    "wait.until(EC.presence_of_element_located((By.CLASS_NAME, 'hometoplist')))\n",
    "\n",
    "# Run through the airports\n",
    "try:\n",
    "    # Get the rows of the table\n",
    "    rows = driver.find_elements(By.CLASS_NAME, 'hometoplist-item')\n",
    "\n",
    "    # Since im leaving the main page after I get all the rows, the elements become stale so I save all the urls before hand\n",
    "    urls = []\n",
    "    for row in rows:\n",
    "        urls.append(row.get_attribute('href'))\n",
    "\n",
    "    # Go to each airport\n",
    "    for i in range(len(urls)):\n",
    "    # for row in rows:\n",
    "        url = urls[i]\n",
    "        # Set current outgoing airport\n",
    "        outgoing_code = url[-3:]\n",
    "\n",
    "        # Go to the airport page\n",
    "        driver.get(url)\n",
    "\n",
    "        # Wait for the table to be loaded\n",
    "        wait.until(EC.presence_of_element_located((By.CLASS_NAME, 'uk-list')))\n",
    "\n",
    "        # Since some rows are hidden scroll and click to the show all button\n",
    "        try:\n",
    "            show_all_button = driver.find_element(By.CLASS_NAME, 'ff-show-all')\n",
    "            banner = driver.find_element(By.ID, 'header')\n",
    "            # Top banner is in the way so account for the banner height\n",
    "            driver.execute_script(f'window.scroll(0, {show_all_button.location[\"y\"] - banner.size[\"height\"]})')\n",
    "            show_all_button.click()\n",
    "        except:\n",
    "            pass\n",
    "\n",
    "        # Get the outbound routes\n",
    "        routes = driver.find_elements(By.CLASS_NAME, 'ff-li-list')\n",
    "\n",
    "        # Go through each route and save it to the dataframe\n",
    "        data_list = []\n",
    "        for route in routes:\n",
    "            incoming_code = route.find_element(By.CLASS_NAME, 'ff-row-name').text[:3]\n",
    "            data_list.append({'outgoing_code': outgoing_code, 'incoming_code': incoming_code})\n",
    "\n",
    "        data = pd.DataFrame.from_dict(data_list)\n",
    "        route_df = pd.concat([route_df, data], ignore_index=True)\n",
    "        # Wait for a bit for rate limits\n",
    "        time.sleep(2)\n",
    "except TimeoutException:\n",
    "    print('TimeoutException')"
   ]
  },
  {
   "cell_type": "markdown",
   "metadata": {},
   "source": [
    "## Getting flight details and prices:"
   ]
  },
  {
   "cell_type": "code",
   "execution_count": null,
   "metadata": {},
   "outputs": [],
   "source": [
    "def parse_flight_text(text: str, dates: tuple = (None, None)) -> dict:\n",
    "    '''\n",
    "    A function to parse the text of a flight element\n",
    "    -----\n",
    "    Input:\n",
    "        text: The text of the flight element\n",
    "        dates (Optional): A tuple with the dates of the flight (departure, return)\n",
    "    -----\n",
    "    Returns:\n",
    "        A dictionary with the parsed data\n",
    "    '''\n",
    "    # Split the text into lines\n",
    "    lines = text.split('\\n')\n",
    "\n",
    "    # Get the outgoing and incoming airports\n",
    "    outgoing = lines[5][:3]\n",
    "    incoming = lines[5][-3:]\n",
    "\n",
    "    # Get the stops\n",
    "    if lines[6] == 'Nonstop':\n",
    "        stops = 0\n",
    "    else:\n",
    "        stops = int(lines[6].split(' ')[0])\n",
    "\n",
    "    # Get the duration\n",
    "    duration = re.findall(r'\\d+', lines[4])\n",
    "\n",
    "    # Get the price\n",
    "    price = int(re.findall(r'\\d+', lines[9])[0])\n",
    "\n",
    "    # Get the airline\n",
    "    airline = lines[3]\n",
    "\n",
    "    return {\n",
    "        'outgoing': outgoing,\n",
    "        'incoming': incoming,\n",
    "        'stops': stops,\n",
    "        'duration': duration,\n",
    "        'price': price,\n",
    "        'airline': airline,\n",
    "        'departure_date': dates[0],\n",
    "        'return_date': dates[1]\n",
    "    }"
   ]
  },
  {
   "cell_type": "code",
   "execution_count": 38,
   "metadata": {},
   "outputs": [],
   "source": [
    "driver.get('https://www.google.com/travel/flights')"
   ]
  },
  {
   "cell_type": "code",
   "execution_count": 27,
   "metadata": {},
   "outputs": [],
   "source": [
    "inputs = driver.find_elements(By.TAG_NAME, 'input')\n",
    "\n",
    "for input_field in inputs:\n",
    "    # print(input_field.get_attribute('aria-label'))\n",
    "    if input_field.get_attribute('aria-label') is not None:\n",
    "        match input_field.get_attribute('aria-label'):\n",
    "            case 'Where from?':\n",
    "                input_field.clear()\n",
    "                input_field.send_keys('ZRH')\n",
    "                # Pick the first suggestion from the dropdown\n",
    "                list_elements = driver.find_elements(By.TAG_NAME, 'li')\n",
    "                for li in list_elements:\n",
    "                    if li.get_attribute('role') == 'option':\n",
    "                        time.sleep(1)\n",
    "                        li.click()\n",
    "                        break\n",
    "                time.sleep(2)\n",
    "            case 'Where to?':\n",
    "                input_field.send_keys('LHR')\n",
    "                # Pick the first suggestion from the dropdown\n",
    "                list_elements = driver.find_elements(By.TAG_NAME, 'li')\n",
    "                for li in list_elements:\n",
    "                    if li.get_attribute('role') == 'option':\n",
    "                        time.sleep(1)\n",
    "                        li.click()\n",
    "                        break\n",
    "                time.sleep(2)\n",
    "            case 'Departure':\n",
    "                input_field.send_keys('2024-05-01')\n",
    "                time.sleep(1)\n",
    "                input_field.send_keys(Keys.RETURN)\n",
    "                time.sleep(2)\n",
    "            case 'Return':\n",
    "                input_field.send_keys('2024-05-08')\n",
    "                time.sleep(1)\n",
    "                input_field.send_keys(Keys.RETURN)\n",
    "                time.sleep(2)\n",
    "\n",
    "# Get out of the date picker by tabbing twice, Conveniently this puts us on the search button so we can just press enter after\n",
    "actions.send_keys(Keys.TAB).perform()\n",
    "time.sleep(1)\n",
    "actions.send_keys(Keys.TAB).perform()\n",
    "time.sleep(1)\n",
    "actions.send_keys(Keys.RETURN).perform()\n",
    "\n",
    "# Wait for the page to load by waiting for an H2 that says \"Search results\"\n",
    "wait.until(EC.presence_of_element_located((By.TAG_NAME, 'h2')))\n",
    "\n",
    "# Get flight data, all flights are listed in 2 ULs, both of them are conveniently the last 2 ULs\n",
    "# Get all UL elements\n",
    "ULs = driver.find_elements(By.TAG_NAME, 'ul')\n",
    "\n",
    "best_departing = ULs[-2]\n",
    "\n",
    "# Get the list of flights\n",
    "flights = best_departing.find_elements(By.TAG_NAME, 'li')\n",
    "\n",
    "# Go through each flight and save it to the dataframe\n",
    "data_list = []\n",
    "for flight in flights:\n",
    "    data_list.append(parse_flight_text(flight.text))\n",
    "\n",
    "data = pd.DataFrame.from_dict(data_list)\n",
    "price_df = pd.concat([price_df, data], ignore_index=True)\n",
    "\n",
    "other_flights = ULs[-1]\n",
    "\n",
    "# Get the list of flights\n",
    "flights = other_flights.find_elements(By.TAG_NAME, 'li')\n",
    "\n",
    "# Go through each flight and save it to the dataframe\n",
    "data_list = []\n",
    "for i in range(10):\n",
    "    flight = flights[i]\n",
    "    print(flight.text)\n",
    "    print(\"\")\n",
    "\n",
    "data = pd.DataFrame.from_dict(data_list)\n",
    "price_df = pd.concat([price_df, data], ignore_index=True)"
   ]
  },
  {
   "cell_type": "code",
   "execution_count": 107,
   "metadata": {},
   "outputs": [],
   "source": [
    "driver.quit()"
   ]
  },
  {
   "cell_type": "code",
   "execution_count": null,
   "metadata": {},
   "outputs": [],
   "source": []
  }
 ],
 "metadata": {
  "kernelspec": {
   "display_name": "Python 3",
   "language": "python",
   "name": "python3"
  },
  "language_info": {
   "codemirror_mode": {
    "name": "ipython",
    "version": 3
   },
   "file_extension": ".py",
   "mimetype": "text/x-python",
   "name": "python",
   "nbconvert_exporter": "python",
   "pygments_lexer": "ipython3",
   "version": "3.11.4"
  }
 },
 "nbformat": 4,
 "nbformat_minor": 2
}
